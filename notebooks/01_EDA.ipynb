{
 "cells": [
  {
   "cell_type": "code",
   "execution_count": null,
   "metadata": {},
   "outputs": [],
   "source": [
    "# Importacion de librerias necesarias para el analisis exploratorio (EDA)\n",
    "# -------------------------------------------------------------------------------\n",
    "# Tratamiento de datos\n",
    "import pandas as pd\n",
    "\n",
    "#Gestion de archivos y rutas\n",
    "import os\n",
    "import sys\n",
    "\n",
    "# Visualizacion de datos\n",
    "import matplotlib.pyplot as plt\n",
    "import seaborn as sns\n",
    "\n",
    "# Configuracion de Pandas y eliminacion de warnings\n",
    "pd.set_option('display.max_columns', None)  # Mostrar todas las columnas en los DataFrames\n",
    "import warnings\n",
    "warnings.filterwarnings(\"ignore\")  # Ocultar warnings innecesarios\n",
    "\n",
    "# Funciones de extraccion y exploracion de datos\n",
    "# Obtener la ruta del directorio raiz del proyecto\n",
    "ruta_proyecto = os.path.abspath(os.path.join(os.getcwd(), \"..\"))\n",
    "# Agregar src/ al path si no esta ya incluido\n",
    "if ruta_proyecto not in sys.path:\n",
    "    sys.path.append(ruta_proyecto)\n",
    "    \n",
    "# Importar modulos de src   \n",
    "from src import eda\n",
    "from src import variables as va"
   ]
  },
  {
   "cell_type": "markdown",
   "metadata": {},
   "source": [
    "## EDA INICIAL ✨"
   ]
  },
  {
   "cell_type": "code",
   "execution_count": null,
   "metadata": {},
   "outputs": [],
   "source": [
    "# cargar datos\n",
    "df = eda.extraer_datos_csv(\"../datos/bruto/Bank_Customer_Churn_Prediction.csv\")"
   ]
  },
  {
   "cell_type": "code",
   "execution_count": null,
   "metadata": {},
   "outputs": [],
   "source": [
    "# Renombrar columnas \n",
    "df.rename(columns=va.columnas_renombradas, inplace=True)\n",
    "display(df.head())"
   ]
  },
  {
   "cell_type": "code",
   "execution_count": null,
   "metadata": {},
   "outputs": [],
   "source": [
    "df = eda.transformar_binarios(df, va.columnas_binarias)\n",
    "display(df[va.columnas_binarias].head())"
   ]
  },
  {
   "cell_type": "code",
   "execution_count": null,
   "metadata": {},
   "outputs": [],
   "source": [
    "df = eda.traducir_categoricas(df)"
   ]
  },
  {
   "cell_type": "code",
   "execution_count": null,
   "metadata": {},
   "outputs": [],
   "source": [
    "# Revisar estructura del dataset\n",
    "eda.revisar_estructura(df)"
   ]
  },
  {
   "cell_type": "code",
   "execution_count": null,
   "metadata": {},
   "outputs": [],
   "source": [
    "# Identificar filas duplicadas\n",
    "eda.get_duplicate_rows(df)"
   ]
  },
  {
   "cell_type": "code",
   "execution_count": null,
   "metadata": {},
   "outputs": [],
   "source": [
    "# Revisar valores nulos y duplicados\n",
    "df_nulos = eda.revisar_valores_nulos(df)"
   ]
  },
  {
   "cell_type": "code",
   "execution_count": null,
   "metadata": {},
   "outputs": [],
   "source": [
    "# Revisar valores unicos en variables categoricas\n",
    "eda.revisar_valores_unicos(df)"
   ]
  },
  {
   "cell_type": "code",
   "execution_count": null,
   "metadata": {},
   "outputs": [],
   "source": [
    "# Obtener estadisticas descriptivas\n",
    "eda.obtener_estadisticas(df)"
   ]
  }
 ],
 "metadata": {
  "kernelspec": {
   "display_name": "base",
   "language": "python",
   "name": "python3"
  },
  "language_info": {
   "codemirror_mode": {
    "name": "ipython",
    "version": 3
   },
   "file_extension": ".py",
   "mimetype": "text/x-python",
   "name": "python",
   "nbconvert_exporter": "python",
   "pygments_lexer": "ipython3",
   "version": "3.12.4"
  }
 },
 "nbformat": 4,
 "nbformat_minor": 2
}
