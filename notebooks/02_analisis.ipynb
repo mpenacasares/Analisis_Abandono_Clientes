{
 "cells": [
  {
   "cell_type": "code",
   "execution_count": null,
   "metadata": {},
   "outputs": [],
   "source": [
    "# Importacion de librerias necesarias para el analisis de datos tras EDA\n",
    "# ---------------------------------------------------------------------------------\n",
    "# Tratamiento de datos\n",
    "import pandas as pd\n",
    "import numpy as np\n",
    "\n",
    "#Gestion de archivos y rutas\n",
    "import os\n",
    "import sys\n",
    "\n",
    "# Visualizacion de datos\n",
    "import matplotlib.pyplot as plt\n",
    "import seaborn as sns\n",
    "\n",
    "# Configuracion de Pandas y eliminacion de warnings\n",
    "pd.set_option('display.max_columns', None)  # Mostrar todas las columnas en los DataFrames\n",
    "import warnings\n",
    "warnings.filterwarnings(\"ignore\")  # Ocultar warnings innecesarios\n",
    "\n",
    "# Funciones de extraccion y exploracion de datos\n",
    "# Obtener la ruta del directorio raiz del proyecto\n",
    "ruta_proyecto = os.path.abspath(os.path.join(os.getcwd(), \"..\"))\n",
    "# Agregar src/ al path si no esta ya incluido\n",
    "if ruta_proyecto not in sys.path:\n",
    "    sys.path.append(ruta_proyecto)\n",
    "    \n",
    "# Importar modulos de src   \n",
    "from src import eda\n",
    "from src import variables as va\n",
    "from src import analisis as an"
   ]
  },
  {
   "cell_type": "code",
   "execution_count": null,
   "metadata": {},
   "outputs": [],
   "source": [
    "# Importacion datos post EDA\n",
    "df = eda.extraer_datos_csv(\"../datos/procesado/EDA_Bank_Customer_Churn_Prediction.csv\")"
   ]
  },
  {
   "cell_type": "markdown",
   "metadata": {},
   "source": [
    "## Perfil general del cliente ✨"
   ]
  },
  {
   "cell_type": "code",
   "execution_count": null,
   "metadata": {},
   "outputs": [],
   "source": [
    "eda.obtener_estadisticas(df)"
   ]
  },
  {
   "cell_type": "code",
   "execution_count": null,
   "metadata": {},
   "outputs": [],
   "source": [
    "an.generar_piecharts(df,va.var_categoricas, ruta_guardado=\"../imagenes/\")"
   ]
  },
  {
   "cell_type": "code",
   "execution_count": null,
   "metadata": {},
   "outputs": [],
   "source": [
    "an.generar_histogramas_kde(df, ruta_guardado=\"../imagenes/\")"
   ]
  },
  {
   "cell_type": "code",
   "execution_count": null,
   "metadata": {},
   "outputs": [],
   "source": [
    "an.generar_boxplots(df, ruta_guardado=\"../imagenes/\")"
   ]
  },
  {
   "cell_type": "markdown",
   "metadata": {},
   "source": [
    "## Perfil de los clientes en funcion de si han abandonado el banco alguna vez o no ✨"
   ]
  },
  {
   "cell_type": "code",
   "execution_count": null,
   "metadata": {},
   "outputs": [],
   "source": [
    "# Segmentar en grupo de abandono si o no\n",
    "df_abandono_si = df[df[\"abandono\"] == \"Si\"].copy()\n",
    "df_abandono_no = df[df[\"abandono\"] == \"No\"].copy()\n"
   ]
  },
  {
   "cell_type": "code",
   "execution_count": null,
   "metadata": {},
   "outputs": [],
   "source": [
    "# Filtrar solo las variables clave que se van a analizar\n",
    "df_abandono_si_filtrado = df_abandono_si[va.var_clave_abandono]\n",
    "df_abandono_no_filtrado = df_abandono_no[va.var_clave_abandono]"
   ]
  },
  {
   "cell_type": "code",
   "execution_count": null,
   "metadata": {},
   "outputs": [],
   "source": [
    "# Estadisticas para clientes que han abandonado alguna vez\n",
    "eda.obtener_estadisticas(df_abandono_si_filtrado, \"Clientes que han abandonado\")\n",
    "\n",
    "# Estadisticas para clientes que nunca han abandonado\n",
    "eda.obtener_estadisticas(df_abandono_no_filtrado, \"Clientes que nunca han abandonado\")"
   ]
  },
  {
   "cell_type": "code",
   "execution_count": null,
   "metadata": {},
   "outputs": [],
   "source": [
    "# Comparativa saldo en clientes segun abandono \n",
    "an.generar_boxplot_abandono(df_abandono_si, df_abandono_no, \"saldo\", ruta_guardado=\"../imagenes/\")"
   ]
  },
  {
   "cell_type": "code",
   "execution_count": null,
   "metadata": {},
   "outputs": [],
   "source": [
    "# Comparativa pais y membresia activa en clientes segun abandono \n",
    "an.generar_grafico_barras(df_abandono_si, df_abandono_no, \"miembro_activo\", ruta_guardado=\"../imagenes/\")\n",
    "an.generar_grafico_barras(df_abandono_si, df_abandono_no, \"pais\", ruta_guardado=\"../imagenes/\")"
   ]
  },
  {
   "cell_type": "code",
   "execution_count": null,
   "metadata": {},
   "outputs": [],
   "source": [
    "# Comparativa edad en clientes segun abandono \n",
    "an.generar_histograma_abandono(df_abandono_si, df_abandono_no, \"edad\", ruta_guardado=\"../imagenes/\")"
   ]
  }
 ],
 "metadata": {
  "kernelspec": {
   "display_name": "base",
   "language": "python",
   "name": "python3"
  },
  "language_info": {
   "codemirror_mode": {
    "name": "ipython",
    "version": 3
   },
   "file_extension": ".py",
   "mimetype": "text/x-python",
   "name": "python",
   "nbconvert_exporter": "python",
   "pygments_lexer": "ipython3",
   "version": "3.12.4"
  }
 },
 "nbformat": 4,
 "nbformat_minor": 2
}
