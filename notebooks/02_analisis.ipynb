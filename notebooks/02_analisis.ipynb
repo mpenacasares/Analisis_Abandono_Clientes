{
 "cells": [
  {
   "cell_type": "code",
   "execution_count": null,
   "metadata": {},
   "outputs": [],
   "source": [
    "# Importacion de librerias necesarias para el analisis de datos tras EDA\n",
    "# ---------------------------------------------------------------------------------\n",
    "# Tratamiento de datos\n",
    "import pandas as pd\n",
    "import numpy as np\n",
    "\n",
    "#Gestion de archivos y rutas\n",
    "import os\n",
    "import sys\n",
    "\n",
    "# Visualizacion de datos\n",
    "import matplotlib.pyplot as plt\n",
    "import seaborn as sns\n",
    "\n",
    "# Configuracion de Pandas y eliminacion de warnings\n",
    "pd.set_option('display.max_columns', None)  # Mostrar todas las columnas en los DataFrames\n",
    "import warnings\n",
    "warnings.filterwarnings(\"ignore\")  # Ocultar warnings innecesarios\n",
    "\n",
    "# Funciones de extraccion y exploracion de datos\n",
    "# Obtener la ruta del directorio raiz del proyecto\n",
    "ruta_proyecto = os.path.abspath(os.path.join(os.getcwd(), \"..\"))\n",
    "# Agregar src/ al path si no esta ya incluido\n",
    "if ruta_proyecto not in sys.path:\n",
    "    sys.path.append(ruta_proyecto)\n",
    "    \n",
    "# Importar modulos de src   \n",
    "from src import eda\n",
    "from src import variables as va\n",
    "from src import analisis as an"
   ]
  },
  {
   "cell_type": "code",
   "execution_count": null,
   "metadata": {},
   "outputs": [],
   "source": [
    "# Importacion datos post EDA\n",
    "df = eda.extraer_datos_csv(\"../datos/procesado/EDA_Bank_Customer_Churn_Prediction.csv\")"
   ]
  },
  {
   "cell_type": "markdown",
   "metadata": {},
   "source": [
    "## Perfil general del cliente ✨"
   ]
  },
  {
   "cell_type": "code",
   "execution_count": null,
   "metadata": {},
   "outputs": [],
   "source": [
    "eda.obtener_estadisticas(df)"
   ]
  },
  {
   "cell_type": "code",
   "execution_count": null,
   "metadata": {},
   "outputs": [],
   "source": [
    "an.generar_piecharts(df,va.var_categoricas, ruta_guardado=\"../imagenes/\")"
   ]
  },
  {
   "cell_type": "code",
   "execution_count": null,
   "metadata": {},
   "outputs": [],
   "source": [
    "an.generar_histogramas_kde(df, ruta_guardado=\"../imagenes/\")"
   ]
  },
  {
   "cell_type": "code",
   "execution_count": null,
   "metadata": {},
   "outputs": [],
   "source": [
    "an.generar_boxplots(df, ruta_guardado=\"../imagenes/\")"
   ]
  },
  {
   "cell_type": "markdown",
   "metadata": {},
   "source": [
    "## Analisis de valores atipicos en edad ✨"
   ]
  },
  {
   "cell_type": "code",
   "execution_count": null,
   "metadata": {},
   "outputs": [],
   "source": [
    "grupo_mayores = df[df[\"edad\"] > 60]\n",
    "grupo_jovenes = df[df[\"edad\"] <= 60]"
   ]
  },
  {
   "cell_type": "code",
   "execution_count": null,
   "metadata": {},
   "outputs": [],
   "source": [
    "eda.obtener_estadisticas(grupo_mayores, \"Clientes mayores de 60\")\n",
    "\n",
    "eda.obtener_estadisticas(grupo_jovenes, \"Clientes menores de 60\")\n"
   ]
  },
  {
   "cell_type": "markdown",
   "metadata": {},
   "source": [
    "PDTE: funcion que compare los valores e indique diferencias a partir de una variacion especificada en %"
   ]
  },
  {
   "cell_type": "markdown",
   "metadata": {},
   "source": [
    "## Segmentacion segun abandono y membresa activa  ✨"
   ]
  }
 ],
 "metadata": {
  "kernelspec": {
   "display_name": "base",
   "language": "python",
   "name": "python3"
  },
  "language_info": {
   "codemirror_mode": {
    "name": "ipython",
    "version": 3
   },
   "file_extension": ".py",
   "mimetype": "text/x-python",
   "name": "python",
   "nbconvert_exporter": "python",
   "pygments_lexer": "ipython3",
   "version": "3.12.4"
  }
 },
 "nbformat": 4,
 "nbformat_minor": 2
}
